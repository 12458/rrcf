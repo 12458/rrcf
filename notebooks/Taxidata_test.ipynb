{
 "cells": [
  {
   "cell_type": "code",
   "execution_count": 1,
   "metadata": {},
   "outputs": [],
   "source": [
    "import matplotlib.pyplot as plt\n",
    "import numpy as np\n",
    "import rrcf\n",
    "from rrcf.shingle import shingle"
   ]
  },
  {
   "cell_type": "code",
   "execution_count": 2,
   "metadata": {},
   "outputs": [],
   "source": [
    "data = np.load(\"taxi_all.npz\")"
   ]
  },
  {
   "cell_type": "code",
   "execution_count": 3,
   "metadata": {},
   "outputs": [],
   "source": [
    "# make the initial trees\n",
    "# rememeber the index of the order of data points added into the tree\n",
    "# insert and compute the codisp \n",
    "# done !"
   ]
  },
  {
   "cell_type": "code",
   "execution_count": 4,
   "metadata": {},
   "outputs": [],
   "source": [
    "num_trees = 200\n",
    "forest = []\n",
    "sample_size = 1000\n",
    "data_dim = 48\n",
    "data_index = []"
   ]
  },
  {
   "cell_type": "code",
   "execution_count": 5,
   "metadata": {},
   "outputs": [],
   "source": [
    "# make the inital trees \n",
    "data_stream = shingle(data[\"passengers\"], data_dim)\n",
    "inital_data = next(data_stream)\n",
    "inital_data = np.vstack((inital_data, next(data_stream)))\n",
    "inital_data = np.vstack((inital_data, next(data_stream)))\n",
    "# add 3 data points \n",
    "data_index = [0, 1, 2]"
   ]
  },
  {
   "cell_type": "code",
   "execution_count": 6,
   "metadata": {},
   "outputs": [
    {
     "data": {
      "text/plain": [
       "(3, 48)"
      ]
     },
     "execution_count": 6,
     "metadata": {},
     "output_type": "execute_result"
    }
   ],
   "source": [
    "inital_data.shape"
   ]
  },
  {
   "cell_type": "code",
   "execution_count": 7,
   "metadata": {},
   "outputs": [],
   "source": [
    "forest = [rrcf.RCTree(inital_data) for i in range(0, num_trees)]"
   ]
  },
  {
   "cell_type": "code",
   "execution_count": 8,
   "metadata": {},
   "outputs": [],
   "source": [
    "codisp = np.zeros((len(data[\"passengers\"]), num_trees))\n",
    "for i in range(3*data_dim, len(data[\"passengers\"])):\n",
    "    if len(data_index) >= sample_size:\n",
    "        # forget the point \n",
    "        for tree in forest:\n",
    "            tree.forget_point(data_index[0])\n",
    "        data_index.pop(0)\n",
    "        \n",
    "    data_index.append(i+3)\n",
    "    # insert the new point\n",
    "    d = next(data_stream)\n",
    "    for tree in forest:\n",
    "        tree.insert_point(np.asarray(d), data_index[-1])\n",
    "        # compute the codisp \n",
    "        codisp[i, forest.index(tree)] = tree.codisp(data_index[-1])\n",
    "np.save(\"codisp_trees_200\", codisp)"
   ]
  },
  {
   "cell_type": "code",
   "execution_count": 9,
   "metadata": {},
   "outputs": [
    {
     "data": {
      "text/plain": [
       "[<matplotlib.lines.Line2D at 0x117867390>]"
      ]
     },
     "execution_count": 9,
     "metadata": {},
     "output_type": "execute_result"
    },
    {
     "data": {
      "image/png": "[encoded data removed]",
      "text/plain": [
       "<Figure size 432x288 with 2 Axes>"
      ]
     },
     "metadata": {
      "needs_background": "light"
     },
     "output_type": "display_data"
    }
   ],
   "source": [
    "plt.subplot(2,1,1)\n",
    "plt.plot(codisp.mean(axis=1))\n",
    "plt.subplot(2,1,2)\n",
    "plt.plot(data[\"dates\"], data[\"passengers\"])"
   ]
  },
  {
   "cell_type": "code",
   "execution_count": null,
   "metadata": {},
   "outputs": [],
   "source": []
  },
  {
   "cell_type": "code",
   "execution_count": null,
   "metadata": {},
   "outputs": [],
   "source": []
  }
 ],
 "metadata": {
  "kernelspec": {
   "display_name": "Python 3",
   "language": "python",
   "name": "python3"
  },
  "language_info": {
   "codemirror_mode": {
    "name": "ipython",
    "version": 3
   },
   "file_extension": ".py",
   "mimetype": "text/x-python",
   "name": "python",
   "nbconvert_exporter": "python",
   "pygments_lexer": "ipython3",
   "version": "3.7.1"
  }
 },
 "nbformat": 4,
 "nbformat_minor": 2
}
